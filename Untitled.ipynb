{
 "cells": [
  {
   "cell_type": "code",
   "execution_count": 7,
   "metadata": {},
   "outputs": [
    {
     "name": "stdout",
     "output_type": "stream",
     "text": [
      "   Penduduk Indonesia menurut Provinsi 1971, 1980, 1990, 1995, 2000 dan 2010  \\\n",
      "0                                                 NaN                          \n",
      "1                                            Provinsi                          \n",
      "2                                                 NaN                          \n",
      "3                                                Aceh                          \n",
      "4                                      Sumatera Utara                          \n",
      "5                                      Sumatera Barat                          \n",
      "6                                                Riau                          \n",
      "7                                               Jambi                          \n",
      "8                                    Sumatera Selatan                          \n",
      "9                                            Bengkulu                          \n",
      "10                                            Lampung                          \n",
      "11                          Kepulauan Bangka Belitung                          \n",
      "12                                     Kepulauan Riau                          \n",
      "13                                        DKI Jakarta                          \n",
      "14                                         Jawa Barat                          \n",
      "15                                        Jawa Tengah                          \n",
      "16                                      DI Yogyakarta                          \n",
      "17                                         Jawa Timur                          \n",
      "18                                             Banten                          \n",
      "19                                               Bali                          \n",
      "20                                Nusa Tenggara Barat                          \n",
      "21                                Nusa Tenggara Timur                          \n",
      "22                                   Kalimantan Barat                          \n",
      "23                                  Kalimantan Tengah                          \n",
      "24                                 Kalimantan Selatan                          \n",
      "25                                   Kalimantan Timur                          \n",
      "26                                     Sulawesi Utara                          \n",
      "27                                    Sulawesi Tengah                          \n",
      "28                                   Sulawesi Selatan                          \n",
      "29                                  Sulawesi Tenggara                          \n",
      "30                                          Gorontalo                          \n",
      "31                                     Sulawesi Barat                          \n",
      "32                                             Maluku                          \n",
      "33                                       Maluku Utara                          \n",
      "34                                        Papua Barat                          \n",
      "35                                              Papua                          \n",
      "36                                          INDONESIA                          \n",
      "37  Catatan : Termasuk Penghuni Tidak Tetap (Tuna ...                          \n",
      "38  Sumber : Sensus Penduduk 1971, 1980, 1990, 200...                          \n",
      "\n",
      "   Unnamed: 1 Unnamed: 2 Unnamed: 3 Unnamed: 4 Unnamed: 5   Unnamed: 6  \n",
      "0         NaN        NaN        NaN        NaN        NaN          NaN  \n",
      "1    Penduduk        NaN        NaN        NaN        NaN          NaN  \n",
      "2        1971       1980       1990       1995       2000       2010.0  \n",
      "3     2008595    2611271    3416156    3847583    3930905    4494410.0  \n",
      "4     6621831    8360894   10256027   11114667   11649655   12982204.0  \n",
      "5     2793196    3406816    4000207    4323170    4248931    4846909.0  \n",
      "6     1641545    2168535    3303976    3900534    4957627    5538367.0  \n",
      "7     1006084    1445994    2020568    2369959    2413846    3092265.0  \n",
      "8     3440573    4629801    6313074    7207545    6899675    7450394.0  \n",
      "9      519316     768064    1179122    1409117    1567432    1715518.0  \n",
      "10    2777008    4624785    6017573    6657759    6741439    7608405.0  \n",
      "11          -          -          -          -     900197    1223296.0  \n",
      "12          -          -          -          -          -    1679163.0  \n",
      "13    4579303    6503449    8259266    9112652    8389443    9607787.0  \n",
      "14   21623529   27453525   35384352   39206787   35729537   43053732.0  \n",
      "15   21877136   25372889   28520643   29653266   31228940   32382657.0  \n",
      "16    2489360    2750813    2913054    2916779    3122268    3457491.0  \n",
      "17   25516999   29188852   32503991   33844002   34783640   37476757.0  \n",
      "18          -          -          -          -    8098780   10632166.0  \n",
      "19    2120322    2469930    2777811    2895649    3151162    3890757.0  \n",
      "20    2203465    2724664    3369649    3645713    4009261    4500212.0  \n",
      "21    2295287    2737166    3268644    3577472    3952279    4683827.0  \n",
      "22    2019936    2486068    3229153    3635730    4034198    4395983.0  \n",
      "23     701936     954353    1396486    1627453    1857000    2212089.0  \n",
      "24    1699105    2064649    2597572    2893477    2985240    3626616.0  \n",
      "25     733797    1218016    1876663    2314183    2455120    3553143.0  \n",
      "26    1718543    2115384    2478119    2649093    2012098    2270596.0  \n",
      "27     913662    1289635    1711327    1938071    2218435    2635009.0  \n",
      "28    5180576    6062212    6981646    7558368    8059627    8034776.0  \n",
      "29     714120     942302    1349619    1586917    1821284    2232586.0  \n",
      "30          -          -          -          -     835044    1040164.0  \n",
      "31          -          -          -          -          -    1158651.0  \n",
      "32    1089565    1411006    1857790    2086516    1205539    1533506.0  \n",
      "33          -          -          -          -     785059    1038087.0  \n",
      "34          -          -          -          -          -     760422.0  \n",
      "35     923440    1173875    1648708    1942627    2220934    2833381.0  \n",
      "36  119208229  147490298  179378946  194754808  206264595  237641326.0  \n",
      "37        NaN        NaN        NaN        NaN        NaN          NaN  \n",
      "38        NaN        NaN        NaN        NaN        NaN          NaN  \n"
     ]
    },
    {
     "data": {
      "image/png": "[encoded data removed]",
      "text/plain": [
       "<Figure size 432x288 with 2 Axes>"
      ]
     },
     "metadata": {
      "needs_background": "light"
     },
     "output_type": "display_data"
    }
   ],
   "source": [
    "import numpy as np \n",
    "import pandas as pd \n",
    "from sklearn import linear_model\n",
    "import matplotlib.pyplot as plt \n",
    "\n",
    "df = pd.read_excel('PendudukIND.xls')\n",
    "# df = pd.DataFrame(data)\n",
    "print(df)\n",
    "\n",
    "corr = df.corr()\n",
    "# print(corr)\n",
    "\n",
    "import seaborn as sb \n",
    "sb.heatmap(corr)\n",
    "plt.show()\n",
    "# multivariate linear regression\n",
    "# y = m1x1 + m2x2 + m3x3 + c\n",
    "\n",
    "# model = linear_model.LinearRegression()\n",
    "# model.fit(df[['luas', 'kamar', 'usia']], df['harga'])\n",
    "\n",
    "# print(model.coef_)\n",
    "# print(model.intercept_)\n",
    "\n",
    "# print(model.predict([[ 1000, 5, 1]]))"
   ]
  }
 ],
 "metadata": {
  "kernelspec": {
   "display_name": "Python 3",
   "language": "python",
   "name": "python3"
  },
  "language_info": {
   "codemirror_mode": {
    "name": "ipython",
    "version": 3
   },
   "file_extension": ".py",
   "mimetype": "text/x-python",
   "name": "python",
   "nbconvert_exporter": "python",
   "pygments_lexer": "ipython3",
   "version": "3.7.3"
  }
 },
 "nbformat": 4,
 "nbformat_minor": 2
}
